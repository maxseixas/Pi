{
 "cells": [
  {
   "cell_type": "code",
   "execution_count": 1,
   "id": "d0dbf43c",
   "metadata": {},
   "outputs": [
    {
     "name": "stdout",
     "output_type": "stream",
     "text": [
      "Pi is estimated to be:  3.1440439842766357\n",
      "Which we can round to  3.14\n"
     ]
    }
   ],
   "source": [
    "#Problem: Approxmiating Pi Via Hit or Miss. \n",
    "#To do this, lets find the area of a circle with radius one. \n",
    "#This area will be equal to Pi as A_circle=(pi)(r^2), so when r is 1 we should get pi. \n",
    "\n",
    "import numpy as np\n",
    "def f(x):\n",
    "    return np.sqrt(1-x**2)\n",
    "\n",
    "#To make life a little simpler I will find the area of the top hemisphere of a circle\n",
    "#and multiply by 2 at the end. \n",
    "\n",
    "a=-1\n",
    "b=1\n",
    "Ndarts=1000000\n",
    "\n",
    "#numerical version of function\n",
    "x = np.linspace(a,b,10000)\n",
    "y = f(x)\n",
    "\n",
    "\n",
    "#this should be 1, but just to be safe...\n",
    "ymax= np.max(y)\n",
    "ymin=0\n",
    "\n",
    "#Dart Time\n",
    "xrand = np.random.uniform(a,b,Ndarts)\n",
    "yrand = np.random.uniform(ymin, ymax, Ndarts)\n",
    "\n",
    "#print(yrand)\n",
    "\n",
    "count=np.sum(yrand < f(xrand))\n",
    "Abox = (b-a)*(ymax-ymin)\n",
    "\n",
    "area= count*Abox/Ndarts\n",
    "#print(area)\n",
    "print(\"Pi is estimated to be: \", 2*area)    \n",
    "print(\"Which we can round to \", round(2*area, 2))"
   ]
  },
  {
   "cell_type": "code",
   "execution_count": null,
   "id": "039b67cd",
   "metadata": {},
   "outputs": [],
   "source": []
  }
 ],
 "metadata": {
  "kernelspec": {
   "display_name": "Python 3",
   "language": "python",
   "name": "python3"
  },
  "language_info": {
   "codemirror_mode": {
    "name": "ipython",
    "version": 3
   },
   "file_extension": ".py",
   "mimetype": "text/x-python",
   "name": "python",
   "nbconvert_exporter": "python",
   "pygments_lexer": "ipython3",
   "version": "3.8.8"
  }
 },
 "nbformat": 4,
 "nbformat_minor": 5
}
